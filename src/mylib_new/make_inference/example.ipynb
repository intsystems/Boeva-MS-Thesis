{
 "cells": [
  {
   "cell_type": "code",
   "execution_count": 11,
   "metadata": {},
   "outputs": [],
   "source": [
    "from sklearn.metrics import f1_score, accuracy_score, roc_auc_score, hamming_loss, precision_score, recall_score, ndcg_score\n",
    "import numpy as np\n",
    "import torch"
   ]
  },
  {
   "cell_type": "code",
   "execution_count": 12,
   "metadata": {},
   "outputs": [
    {
     "name": "stdout",
     "output_type": "stream",
     "text": [
      "The autoreload extension is already loaded. To reload it, use:\n",
      "  %reload_ext autoreload\n"
     ]
    }
   ],
   "source": [
    "%load_ext autoreload\n",
    "%autoreload 2\n",
    "\n",
    "# from utils.DataClass import ProcessDNNTSP, ProcessSFCNTSP,ProcessGP, DataClass, ProcessLANET, ProcessTCMBN\n",
    "from utils.DataClass import DataClass, ProcessFile, ProcessGP\n",
    "\n",
    "from utils.Analysis import ModelComparison, Metric, ExperimentInfo\n",
    "from utils.Analysis import avg_size_of_pred_set,  plot_label_distribution, kl_divergence, plot_probas_distribution, get_label_frequencies "
   ]
  },
  {
   "cell_type": "code",
   "execution_count": null,
   "metadata": {},
   "outputs": [],
   "source": [
    "def phr(predictions, ground_truth, top_n=10):\n",
    "    \"\"\"\n",
    "    Calculate the Precision at Hits Rate (PHR) metric.\n",
    "\n",
    "    Parameters:\n",
    "    - predictions (numpy.array): A 2D array where each row contains scores for items.\n",
    "    - ground_truth (numpy.array): A 2D binary array (multi-hot encoded) where each row\n",
    "                                  indicates the actual relevance of items (1 if relevant, 0 otherwise).\n",
    "    - top_n (int): Number of top-scored items to consider for checking hits.\n",
    "\n",
    "    Returns:\n",
    "    - float: PHR metric value.\n",
    "    \"\"\"\n",
    "    hits = 0\n",
    "    \n",
    "    for pred_scores, true_labels in zip(predictions, ground_truth):\n",
    "        top_indices = np.argsort(pred_scores)[::-1][:top_n]\n",
    "        \n",
    "        if np.any(true_labels[top_indices] == 1):\n",
    "            hits += 1\n",
    "    \n",
    "    phr_score = hits / len(predictions)\n",
    "    \n",
    "    return phr_score\n"
   ]
  },
  {
   "cell_type": "code",
   "execution_count": 33,
   "metadata": {},
   "outputs": [],
   "source": [
    "# Here you need to define two arrays with the metrics you want to take\n",
    "# metric_list - These are the metrics that are counted in the multilabel setting\n",
    "# metric_list_for_labels - These are the metrics that are counted in the binary categorisation setting.\n",
    "# the metric_list_for_labels array is used to build metrics per label\n",
    "\n",
    "# into these arrays you pass:\n",
    "# 1. metric function object\n",
    "# 2. 'pred_labels' or 'probas' depending on what the metric is working with.\n",
    "# the thing is, under the bonnet, it's got its own strategy for selecting thresholds, instead of taking \n",
    "# the usual 0.5 that sklearn does if you pass it probabilities instead of labels.\n",
    "# - with the name argument you pass how to name the metric (for displaying on charts).\n",
    "# if you don't pass this parameter, the default will be metric.\n",
    "# metric_func + str(kwargs)\n",
    "# - then pass the desired arguments to kwargs, which you may want to put into the\n",
    "# the metric itself. For example, passing the parameter average=<...> to the initialiser\n",
    "# when the corresponding metric is called, this parameter will be substituted into the metric itself\n",
    "\n",
    "\n",
    "metric_list_for_set_sizes = [\n",
    "    Metric(f1_score, 'pred_labels', name='weighted f1', average='weighted', zero_division=1.0),\n",
    "    Metric(hamming_loss, 'pred_labels'),\n",
    "]\n",
    "\n",
    "\n",
    "def roc_auc(y_true, y_pred, **kwargs):\n",
    "    tasks_with_non_trivial_targets = np.where(y_true.sum(axis=0) != 0)[0]\n",
    "    y_pred_copy = y_pred[:, tasks_with_non_trivial_targets]\n",
    "    y_true_copy = y_true[:, tasks_with_non_trivial_targets]\n",
    "    roc_auc = roc_auc_score(y_true=y_true_copy, y_score=y_pred_copy, **kwargs)\n",
    "    return roc_auc\n",
    "\n",
    "metric_list = [\n",
    "    Metric(hamming_loss, 'pred_labels', name='hamming loss'),\n",
    "    Metric(ndcg_score, 'probas', name=f'ndcg {10}', k=10),\n",
    "    Metric(ndcg_score, 'probas', name=f'ndcg {30}', k=30),\n",
    "    Metric(phr, 'probas', name=f'PHR {10}', k=10),\n",
    "    Metric(phr, 'probas', name=f'PHR {30}', k=30),\n",
    "    Metric(f1_score, 'pred_labels', name='micro f1', average='micro'),\n",
    "    Metric(f1_score, 'pred_labels', name='macro f1', average='macro'),\n",
    "    Metric(f1_score, 'pred_labels', name='weighted f1', average='weighted'),\n",
    "    Metric(roc_auc, 'probas', name='micro ROC AUC', average='micro'),\n",
    "    Metric(roc_auc, 'probas', name='macro ROC AUC', average='macro'),\n",
    "    Metric(roc_auc, 'probas', name='weighted ROC AUC', average='weighted'),\n",
    "\n",
    "\n",
    "]\n",
    "\n",
    "\n",
    "\n",
    "metric_list_for_labels = [\n",
    "    Metric(accuracy_score, 'pred_labels'),\n",
    "    Metric(precision_score, 'pred_labels')\n",
    "]"
   ]
  },
  {
   "cell_type": "code",
   "execution_count": 34,
   "metadata": {},
   "outputs": [],
   "source": [
    "def eval_dataset(dataset_name) -> ModelComparison:\n",
    "\n",
    "\n",
    "\tsfcntsp = ProcessFile(dataset_name, '/app/All_models/model_pred_and_gt/SFCNTSP', 'SFCNTSP')\n",
    "\tsfcntsp = DataClass(sfcntsp)\n",
    "\n",
    "\tdnntsp = ProcessFile(dataset_name, '/app/All_models/model_pred_and_gt/DNNTSP', 'DNNTSP')\n",
    "\tdnntsp = DataClass(dnntsp)\n",
    "\n",
    "\tlanet = ProcessFile(dataset_name, '/app/All_models/model_pred_and_gt/LANET', 'LANET')\n",
    "\tlanet = DataClass(lanet)\n",
    " \n",
    "\tgp = ProcessGP(dataset_name, '/app/MyGP_topfreq/model_pred_and_gt', 'GPTopFreq')\n",
    "\tgp = DataClass(gp)\n",
    "\n",
    "\ttcmbn = ProcessFile(dataset_name, '/app/All_models/model_pred_and_gt/TCMBN', 'TCMBN')\n",
    "\ttcmbn = DataClass(tcmbn)\n",
    "\n",
    "\tprint('Running tests')\n",
    "      \n",
    "\ttest_comp = ModelComparison(sfcntsp, dnntsp, lanet, gp, tcmbn)\n",
    "\n",
    "\tprint('Done')\n",
    "\n",
    "\treturn test_comp"
   ]
  },
  {
   "cell_type": "markdown",
   "metadata": {},
   "source": [
    "## Updated Example"
   ]
  },
  {
   "cell_type": "code",
   "execution_count": 3,
   "metadata": {},
   "outputs": [],
   "source": [
    " # custom class for loading and preprocessing into the required format\n",
    " # created according to the rules described in the readme\n",
    "\n",
    "sfcntsp = ProcessFile('DC_preprocessed', '/app/All_models/model_pred_and_gt/SFCNTSP', 'SFCNTSP')\n",
    "\n",
    "sfcntsp = DataClass(sfcntsp)\n",
    "\n",
    "dnntsp = ProcessFile('DC_preprocessed', '/app/All_models/model_pred_and_gt/DNNTSP', 'DNNTSP')\n",
    "dnntsp = DataClass(dnntsp)\n",
    "\n",
    "lanet = ProcessFile('DC_preprocessed', '/app/All_models/model_pred_and_gt/LANET', 'LANET')\n",
    "lanet = DataClass(lanet)\n",
    "\n",
    "gp = ProcessGP('DC_preprocessed', '/app/MyGP_topfreq/model_pred_and_gt')\n",
    "gp = DataClass(gp)\n",
    "\n",
    "tcmbn = ProcessFile('DC_preprocessed', '/app/All_models/model_pred_and_gt/TCMBN', 'TCMBN')\n",
    "tcmbn = DataClass(tcmbn)\n",
    "\n",
    "\n",
    "# In the initialiser of the ModelComparison class\n",
    "# pass DataClass objects from different models on the same dataset that we want to compare\n",
    "# During initialisation it will check that the data is from the same dataset\n",
    "# And the corresponding messages will be printed out\n",
    "test_comp = ModelComparison(sfcntsp, dnntsp, lanet, gp, tcmbn)\n",
    "\n",
    "# You call the evaluate_and_save method on the ModelComparison class object\n",
    "# it will plot all the graphs, calculate the metrics and save them\n",
    "# the metrics you have listed in the arrays above will be used for the calculation\n",
    "# there are also named parameters show and save\n",
    "# show is responsible for outputting the graphs (if False, no graphs will be output),\n",
    "# it is necessary not to clog the output if necessary.\n",
    "# save is responsible for saving\n",
    "\n",
    "test_comp.evaluate_and_save(metric_list_for_set_sizes, metric_list_for_labels, metric_list, figsize=(12,8),show=True)\n"
   ]
  },
  {
   "cell_type": "markdown",
   "metadata": {},
   "source": [
    "## Dunnhumby Carbo analysis "
   ]
  },
  {
   "cell_type": "code",
   "execution_count": null,
   "metadata": {},
   "outputs": [],
   "source": [
    "test_comp = eval_dataset(\"DC_preprocessed\")"
   ]
  },
  {
   "cell_type": "code",
   "execution_count": null,
   "metadata": {},
   "outputs": [],
   "source": [
    "test_comp.evaluate_and_save(metric_list_for_set_sizes, metric_list_for_labels, metric_list, figsize=(12,8),show=False)"
   ]
  },
  {
   "cell_type": "markdown",
   "metadata": {},
   "source": [
    "## Mimic3"
   ]
  },
  {
   "cell_type": "code",
   "execution_count": null,
   "metadata": {},
   "outputs": [],
   "source": [
    "test_comp = eval_dataset(\"mimic3_preprocessed\")"
   ]
  },
  {
   "cell_type": "code",
   "execution_count": null,
   "metadata": {},
   "outputs": [],
   "source": [
    "test_comp.evaluate_and_save(metric_list_for_set_sizes, metric_list_for_labels, metric_list, figsize=(12,8),show=False)"
   ]
  },
  {
   "cell_type": "markdown",
   "metadata": {},
   "source": [
    "## Synthea"
   ]
  },
  {
   "cell_type": "code",
   "execution_count": null,
   "metadata": {},
   "outputs": [],
   "source": [
    "test_comp = eval_dataset('synthea_preprocessed')"
   ]
  },
  {
   "cell_type": "code",
   "execution_count": null,
   "metadata": {},
   "outputs": [],
   "source": [
    "test_comp.evaluate_and_save(metric_list_for_set_sizes, metric_list_for_labels, metric_list, figsize=(12,8),show=False)"
   ]
  },
  {
   "cell_type": "markdown",
   "metadata": {},
   "source": [
    "## Instacart"
   ]
  },
  {
   "cell_type": "code",
   "execution_count": null,
   "metadata": {},
   "outputs": [],
   "source": [
    "test_comp = eval_dataset(\"instacart_preprocessed\")"
   ]
  },
  {
   "cell_type": "code",
   "execution_count": null,
   "metadata": {},
   "outputs": [],
   "source": [
    "test_comp.evaluate_and_save(metric_list_for_set_sizes, metric_list_for_labels, metric_list, figsize=(12,8),show=False)"
   ]
  }
 ],
 "metadata": {
  "kernelspec": {
   "display_name": "Python 3",
   "language": "python",
   "name": "python3"
  },
  "language_info": {
   "codemirror_mode": {
    "name": "ipython",
    "version": 3
   },
   "file_extension": ".py",
   "mimetype": "text/x-python",
   "name": "python",
   "nbconvert_exporter": "python",
   "pygments_lexer": "ipython3",
   "version": "3.11.7"
  }
 },
 "nbformat": 4,
 "nbformat_minor": 2
}
